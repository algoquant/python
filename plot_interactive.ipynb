{
 "cells": [
  {
   "cell_type": "code",
   "execution_count": null,
   "id": "2db0ee80",
   "metadata": {},
   "outputs": [
    {
     "data": {
      "application/vnd.jupyter.widget-view+json": {
       "model_id": "d6db446b25fc42f39a742016c3a0f4e4",
       "version_major": 2,
       "version_minor": 0
      },
      "text/plain": [
       "interactive(children=(IntSlider(value=1, description='c', max=3, min=-1), Output()), _dom_classes=('widget-int…"
      ]
     },
     "metadata": {},
     "output_type": "display_data"
    }
   ],
   "source": [
    "\"\"\"\n",
    "Script for interactive plot using ipywidgets and matplotlib.\n",
    "Created on Tue Nov 17 15:03:55 2020\n",
    "@author: Jerzy\n",
    "\n",
    "\"\"\"\n",
    "# https://medium.com/data-science/interactive-graphs-in-python-830b1e6c197f\n",
    "\n",
    "import math\n",
    "import numpy as np\n",
    "import matplotlib.pyplot as plt\n",
    "from matplotlib import figure\n",
    "from ipywidgets import interact\n",
    "\n",
    "\n",
    "@interact\n",
    "def sinewave(c = 1):\n",
    "\n",
    "    # Inputs, 100 evenly spaced points 0 through 2pi\n",
    "    p = np.linspace(0, 2*math.pi, 100)\n",
    "    # y, a set of outputs to those 100 evenly spaced points\n",
    "    y = np.sin(p-c*4)\n",
    "    \n",
    "    plt.plot(p, y)\n",
    "    plt.ylabel('sin(x)')\n",
    "    plt.xlabel('x')\n",
    "    plt.title('Sinwave function')\n",
    "    return plt.figure()\n",
    "\n"
   ]
  }
 ],
 "metadata": {
  "kernelspec": {
   "display_name": "Python 3",
   "language": "python",
   "name": "python3"
  },
  "language_info": {
   "codemirror_mode": {
    "name": "ipython",
    "version": 3
   },
   "file_extension": ".py",
   "mimetype": "text/x-python",
   "name": "python",
   "nbconvert_exporter": "python",
   "pygments_lexer": "ipython3",
   "version": "3.10.6"
  }
 },
 "nbformat": 4,
 "nbformat_minor": 5
}
