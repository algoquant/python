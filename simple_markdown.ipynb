{
 "cells": [
  {
   "cell_type": "markdown",
   "metadata": {},
   "source": [
    "Please visit my [algoquant GitHub page](https://github.com/algoquant)\n",
    "\n",
    "## This is huge text\n",
    "\n",
    "### This is large text\n",
    "\n",
    "#### This is small text\n",
    "\n",
    "\n",
    "quote:\n",
    "> Pardon my french\n",
    "\n",
    "*This text will be italic*  \n",
    "**This text will be bold**  \n",
    "**Everyone _must_ attend the meeting at 5 o'clock today.**  \n",
    "\n",
    "lists:\n",
    "\n",
    "* Item 1\n",
    "* Item 2\n",
    "* Item 3\n",
    "\n",
    "1. Item 1\n",
    "2. Item 2\n",
    "3. Item 3\n",
    "\n"
   ]
  },
  {
   "cell_type": "code",
   "execution_count": null,
   "metadata": {},
   "outputs": [],
   "source": []
  },
  {
   "cell_type": "markdown",
   "metadata": {},
   "source": []
  }
 ],
 "metadata": {
  "kernelspec": {
   "display_name": "Python 3",
   "language": "python",
   "name": "python3"
  },
  "language_info": {
   "codemirror_mode": {
    "name": "ipython",
    "version": 3
   },
   "file_extension": ".py",
   "mimetype": "text/x-python",
   "name": "python",
   "nbconvert_exporter": "python",
   "pygments_lexer": "ipython3",
   "version": "3.8.3"
  }
 },
 "nbformat": 4,
 "nbformat_minor": 4
}
